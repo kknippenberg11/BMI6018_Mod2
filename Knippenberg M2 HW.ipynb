{
 "cells": [
  {
   "cell_type": "code",
   "execution_count": 34,
   "id": "dcaf32f7",
   "metadata": {},
   "outputs": [
    {
     "data": {
      "text/plain": [
       "2"
      ]
     },
     "execution_count": 34,
     "metadata": {},
     "output_type": "execute_result"
    }
   ],
   "source": [
    "#QUESTION 1 (BOOLEANS)\n",
    "\n",
    "bool(True) + bool(True) - bool(False) #boolean True + boolean True - boolean False = ?"
   ]
  },
  {
   "cell_type": "code",
   "execution_count": 35,
   "id": "0cc0e671",
   "metadata": {},
   "outputs": [
    {
     "name": "stdout",
     "output_type": "stream",
     "text": [
      "1\n"
     ]
    }
   ],
   "source": [
    "#QUESTION 2 (BOOLEANS2)\n",
    "\n",
    "'''logical tracker = True\n",
    "logical tracker = logical tracker & logical tracker\n",
    "logical tracker = logical tracker | (logical tracker - logical tracker)\n",
    "logical tracker  = ?'''\n",
    "\n",
    "a = True\n",
    "a = a & a\n",
    "a = a | (a - a)\n",
    "print(a)"
   ]
  },
  {
   "cell_type": "code",
   "execution_count": 36,
   "id": "cea7a57f",
   "metadata": {},
   "outputs": [],
   "source": [
    "#QUESTION 3 NO CODE\n",
    "\n",
    "#QUESTION 4 NO CODE"
   ]
  },
  {
   "cell_type": "code",
   "execution_count": 37,
   "id": "1668e679",
   "metadata": {},
   "outputs": [
    {
     "data": {
      "text/plain": [
       "' '"
      ]
     },
     "execution_count": 37,
     "metadata": {},
     "output_type": "execute_result"
    }
   ],
   "source": [
    "#QUESTION 5 (STRINGS)\n",
    "\n",
    "string = \"E. Coli\"\n",
    "string[2] #Choices are \"C\", \" \", or \".\""
   ]
  },
  {
   "cell_type": "code",
   "execution_count": 38,
   "id": "430f1e19",
   "metadata": {},
   "outputs": [
    {
     "ename": "TypeError",
     "evalue": "'str' object does not support item assignment",
     "output_type": "error",
     "traceback": [
      "\u001b[31m---------------------------------------------------------------------------\u001b[39m",
      "\u001b[31mTypeError\u001b[39m                                 Traceback (most recent call last)",
      "\u001b[36mCell\u001b[39m\u001b[36m \u001b[39m\u001b[32mIn[38]\u001b[39m\u001b[32m, line 5\u001b[39m\n\u001b[32m      1\u001b[39m \u001b[38;5;66;03m#QUESTION 6 (STRINGS2)\u001b[39;00m\n\u001b[32m      4\u001b[39m string = \u001b[33m\"\u001b[39m\u001b[33mI Bove python\u001b[39m\u001b[33m\"\u001b[39m \u001b[38;5;66;03m#Oh no! My string has a typo! \u001b[39;00m\n\u001b[32m----> \u001b[39m\u001b[32m5\u001b[39m \u001b[43mstring\u001b[49m\u001b[43m[\u001b[49m\u001b[32;43m2\u001b[39;49m\u001b[43m]\u001b[49m=\u001b[33m\"\u001b[39m\u001b[33mL\u001b[39m\u001b[33m\"\u001b[39m \u001b[38;5;66;03m#No worries though. I'll just fix that. (Choices are \"No it won't work at all\", \"Yeah that'll work. 'I Love python'\", or \"It'll work, but you've got the wrong one. That'll make 'ILBove python'.\")\u001b[39;00m\n",
      "\u001b[31mTypeError\u001b[39m: 'str' object does not support item assignment"
     ]
    }
   ],
   "source": [
    "#QUESTION 6 (STRINGS2)\n",
    "\n",
    "\n",
    "string = \"I Bove python\" #Oh no! My string has a typo! \n",
    "string[2]=\"L\" #No worries though. I'll just fix that. (Choices are \"No it won't work at all\", \"Yeah that'll work. 'I Love python'\", or \"It'll work, but you've got the wrong one. That'll make 'ILBove python'.\")"
   ]
  },
  {
   "cell_type": "code",
   "execution_count": 39,
   "id": "14ae1630",
   "metadata": {},
   "outputs": [
    {
     "name": "stdout",
     "output_type": "stream",
     "text": [
      "<class 'int'>\n"
     ]
    }
   ],
   "source": [
    "#QUESTION 7 (DATA TYPES)\n",
    "\n",
    "medication = 5 #Jack has been prescribed 5 medications, write a variable named \"Medication\", and store in it the number of medications he has.\n",
    "print(type(medication)) #Print the type of the variable ''Medication\"."
   ]
  },
  {
   "cell_type": "code",
   "execution_count": 40,
   "id": "bacde292",
   "metadata": {},
   "outputs": [
    {
     "name": "stdout",
     "output_type": "stream",
     "text": [
      "24.034609838166958\n",
      "24.03\n"
     ]
    }
   ],
   "source": [
    "#QUESTION 8 (FUNCTION AND FLOAT)\n",
    "\n",
    "weight = 60 #Susan has a weight of 60 kilograms ... \n",
    "height = 1.58 # ... and a height of 1.58 meters\n",
    "bmi = weight/height**2 #Calculate Body Mass Index, which is a person’s weight in kilograms divided by the square of height in meters\n",
    "print(float(bmi)) #Print Susan’s Body Mass Index as float\n",
    "print(f'{bmi:.2f}')"
   ]
  },
  {
   "cell_type": "code",
   "execution_count": 41,
   "id": "8a0dbaf6",
   "metadata": {},
   "outputs": [
    {
     "name": "stdout",
     "output_type": "stream",
     "text": [
      "10 55\n"
     ]
    },
    {
     "ename": "TypeError",
     "evalue": "unsupported operand type(s) for +: 'int' and 'str'",
     "output_type": "error",
     "traceback": [
      "\u001b[31m---------------------------------------------------------------------------\u001b[39m",
      "\u001b[31mTypeError\u001b[39m                                 Traceback (most recent call last)",
      "\u001b[36mCell\u001b[39m\u001b[36m \u001b[39m\u001b[32mIn[41]\u001b[39m\u001b[32m, line 7\u001b[39m\n\u001b[32m      4\u001b[39m b = \u001b[33m'\u001b[39m\u001b[33m5\u001b[39m\u001b[33m'\u001b[39m + \u001b[33m'\u001b[39m\u001b[33m5\u001b[39m\u001b[33m'\u001b[39m \u001b[38;5;66;03m#With string \"+\" string, the \"+\" will concatenate the 2 strings together. \u001b[39;00m\n\u001b[32m      5\u001b[39m \u001b[38;5;28mprint\u001b[39m (a, b)\n\u001b[32m----> \u001b[39m\u001b[32m7\u001b[39m c = \u001b[32;43m5\u001b[39;49m\u001b[43m \u001b[49m\u001b[43m+\u001b[49m\u001b[43m \u001b[49m\u001b[33;43m'\u001b[39;49m\u001b[33;43m5\u001b[39;49m\u001b[33;43m'\u001b[39;49m \u001b[38;5;66;03m#Integer \"+\" string (or vice versa) will result in an error, as Python is a strongly typed language.\u001b[39;00m\n\u001b[32m      8\u001b[39m d = \u001b[33m'\u001b[39m\u001b[33m5\u001b[39m\u001b[33m'\u001b[39m + \u001b[32m5\u001b[39m\n\u001b[32m      9\u001b[39m \u001b[38;5;28mprint\u001b[39m (c, d)\n",
      "\u001b[31mTypeError\u001b[39m: unsupported operand type(s) for +: 'int' and 'str'"
     ]
    }
   ],
   "source": [
    "#QUESTION 9 (OPERATORS2)\n",
    "\n",
    "a = 5 + 5 #With integer \"+\" integer, the \"+\" will add the 2 integers together. \n",
    "b = '5' + '5' #With string \"+\" string, the \"+\" will concatenate the 2 strings together. \n",
    "print (a, b)\n",
    "\n",
    "c = 5 + '5' #Integer \"+\" string (or vice versa) will result in an error, as Python is a strongly typed language.\n",
    "d = '5' + 5\n",
    "print (c, d)"
   ]
  },
  {
   "cell_type": "code",
   "execution_count": 42,
   "id": "f8ba168f",
   "metadata": {},
   "outputs": [
    {
     "data": {
      "text/plain": [
       "'73'"
      ]
     },
     "execution_count": 42,
     "metadata": {},
     "output_type": "execute_result"
    }
   ],
   "source": [
    "#QUESTION 10 (STRING3)\n",
    "\n",
    "a = \"7\" #Type the output if the strings \"7\" and \"3\" are added.\n",
    "b = \"3\"\n",
    "a+b"
   ]
  }
 ],
 "metadata": {
  "kernelspec": {
   "display_name": ".venv (3.13.7)",
   "language": "python",
   "name": "python3"
  },
  "language_info": {
   "codemirror_mode": {
    "name": "ipython",
    "version": 3
   },
   "file_extension": ".py",
   "mimetype": "text/x-python",
   "name": "python",
   "nbconvert_exporter": "python",
   "pygments_lexer": "ipython3",
   "version": "3.13.7"
  }
 },
 "nbformat": 4,
 "nbformat_minor": 5
}
